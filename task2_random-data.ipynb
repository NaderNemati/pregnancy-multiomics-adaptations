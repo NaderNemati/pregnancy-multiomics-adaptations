{
 "cells": [
  {
   "cell_type": "markdown",
   "id": "b48f8a4e-faea-4589-b4b7-fbedfafaf19e",
   "metadata": {},
   "source": [
    "# Task 2: Random Data?"
   ]
  },
  {
   "cell_type": "markdown",
   "id": "527419fe-8e73-4bd4-bde5-28cdcc92a861",
   "metadata": {},
   "source": [
    "## Question"
   ]
  },
  {
   "cell_type": "markdown",
   "id": "1ae778c4-8eaa-4b28-91f9-58004a71f914",
   "metadata": {},
   "source": [
    "> I ran the following code for a binary classification task w/ an SVM in both R (first sample) and Python (second example).\n",
    ">\n",
    "> Given randomly generated data (X) and response (Y), this code performs leave group out cross validation 1000 times. Each entry of Y is therefore the mean of the prediction across CV iterations.\n",
    "> \n",
    "> Computing area under the curve should give ~0.5, since X and Y are completely random. However, this is not what we see. Area under the curve is frequently significantly higher than 0.5. The number of rows of X is very small, which can obviously cause problems.\n",
    ">\n",
    "> Any idea what could be happening here? I know that I can either increase the number of rows of X or decrease the number of columns to mediate the problem, but I am looking for other issues."
   ]
  },
  {
   "cell_type": "markdown",
   "id": "7eecb359-6799-4523-9cdd-05187e1230b2",
   "metadata": {},
   "source": [
    "```R\n",
    "Y=as.factor(rep(c(1,2), times=14))\n",
    "X=matrix(runif(length(Y)*100), nrow=length(Y))\n",
    "\n",
    "library(e1071)\n",
    "library(pROC)\n",
    "\n",
    "colnames(X)=1:ncol(X)\n",
    "iter=1000\n",
    "ansMat=matrix(NA,length(Y),iter)\n",
    "for(i in seq(iter)){    \n",
    "    #get train\n",
    "\n",
    "    train=sample(seq(length(Y)),0.5*length(Y))\n",
    "    if(min(table(Y[train]))==0)\n",
    "    next\n",
    "\n",
    "    #test from train\n",
    "    test=seq(length(Y))[-train]\n",
    "\n",
    "    #train model\n",
    "    XX=X[train,]\n",
    "    YY=Y[train]\n",
    "    mod=svm(XX,YY,probability=FALSE)\n",
    "    XXX=X[test,]\n",
    "    predVec=predict(mod,XXX)\n",
    "    RFans=attr(predVec,'decision.values')\n",
    "    ansMat[test,i]=as.numeric(predVec)\n",
    "}\n",
    "\n",
    "ans=rowMeans(ansMat,na.rm=TRUE)\n",
    "\n",
    "r=roc(Y,ans)$auc\n",
    "print(r)\n",
    "```"
   ]
  },
  {
   "cell_type": "markdown",
   "id": "d14e4617-608b-4749-9ec5-edf15814f5bf",
   "metadata": {},
   "source": [
    "Similarly, when I implement the same thing in Python I get similar results.\n",
    "\n"
   ]
  },
  {
   "cell_type": "code",
   "execution_count": 29,
   "id": "aaafe359",
   "metadata": {},
   "outputs": [],
   "source": [
    "import numpy as np\n",
    "from sklearn.svm import SVC\n",
    "from sklearn.metrics import roc_curve, auc, accuracy_score, confusion_matrix"
   ]
  },
  {
   "cell_type": "code",
   "execution_count": 35,
   "id": "0cf44d8d-ca36-4d6b-bafd-78cade069751",
   "metadata": {
    "scrolled": false
   },
   "outputs": [
    {
     "name": "stdout",
     "output_type": "stream",
     "text": [
      "TRAIN: [2 1 1 2 2 2 1 2 1 2 2 1 2 2] 9\n",
      "TEST: [1 1 1 1 1 2 2 2 1 1 2 1 2 1]\n",
      "ansMat[test, i]: [2. 2. 2. 2. 2. 2. 2. 2. 2. 2. 2. 2. 2. 2.] 14\n",
      "confusion_matrix:\n",
      " [[0 9]\n",
      " [0 5]]\n",
      "fpr: [0. 1.] \t tpr: [0. 1.] \n",
      "\n",
      "TRAIN: [2 1 1 1 2 1 2 2 1 1 2 1 1 2] 6\n",
      "TEST: [1 2 2 2 1 2 1 2 1 1 2 2 1 2]\n",
      "ansMat[test, i]: [1. 1. 1. 1. 1. 1. 1. 1. 1. 1. 1. 1. 1. 1.] 0\n",
      "confusion_matrix:\n",
      " [[6 0]\n",
      " [8 0]]\n",
      "fpr: [0. 1.] \t tpr: [0. 1.] \n",
      "\n",
      "TRAIN: [2 1 1 1 1 1 2 1 1 1 1 2 2 2] 5\n",
      "TEST: [2 1 1 2 2 1 2 2 2 2 2 1 2 1]\n",
      "ansMat[test, i]: [1. 1. 1. 1. 1. 1. 1. 1. 1. 1. 1. 1. 1. 1.] 0\n",
      "confusion_matrix:\n",
      " [[5 0]\n",
      " [9 0]]\n",
      "fpr: [0. 1.] \t tpr: [0. 1.] \n",
      "\n",
      "TRAIN: [2 1 2 2 1 1 2 2 2 2 2 2 1 1] 9\n",
      "TEST: [1 1 2 1 1 1 2 1 2 2 1 1 2 1]\n",
      "ansMat[test, i]: [2. 2. 2. 2. 2. 2. 2. 2. 2. 2. 2. 2. 2. 2.] 14\n",
      "confusion_matrix:\n",
      " [[0 9]\n",
      " [0 5]]\n",
      "fpr: [0. 1.] \t tpr: [0. 1.] \n",
      "\n",
      "TRAIN: [2 2 2 2 1 2 1 2 2 1 1 1 1 1] 7\n",
      "TEST: [2 2 1 1 2 1 2 1 1 2 1 2 2 1]\n",
      "ansMat[test, i]: [1. 2. 2. 2. 2. 2. 2. 1. 1. 2. 2. 2. 2. 1.] 10\n",
      "confusion_matrix:\n",
      " [[3 4]\n",
      " [1 6]]\n",
      "fpr: [0.         0.85714286 1.        ] \t tpr: [0.         0.57142857 1.        ] \n",
      "\n",
      "TRAIN: [1 1 2 1 1 2 2 1 2 2 1 1 2 2] 7\n",
      "TEST: [1 2 1 2 2 1 2 1 2 1 1 1 2 2]\n",
      "ansMat[test, i]: [2. 1. 2. 1. 2. 2. 2. 1. 2. 2. 1. 2. 2. 2.] 10\n",
      "confusion_matrix:\n",
      " [[2 5]\n",
      " [2 5]]\n",
      "fpr: [0.         0.71428571 1.        ] \t tpr: [0.         0.71428571 1.        ] \n",
      "\n",
      "TRAIN: [2 1 2 2 1 1 2 1 1 1 2 1 2 2] 7\n",
      "TEST: [1 2 2 2 1 2 1 2 1 1 1 1 2 2]\n",
      "ansMat[test, i]: [2. 1. 2. 1. 1. 2. 1. 2. 1. 1. 1. 1. 1. 2.] 5\n",
      "confusion_matrix:\n",
      " [[6 1]\n",
      " [3 4]]\n",
      "fpr: [0.         0.57142857 1.        ] \t tpr: [0.         0.14285714 1.        ] \n",
      "\n",
      "TRAIN: [2 2 1 1 2 1 1 1 2 1 2 2 1 2] 7\n",
      "TEST: [2 1 2 2 1 1 2 2 1 1 1 2 1 2]\n",
      "ansMat[test, i]: [1. 1. 2. 1. 1. 1. 2. 2. 1. 1. 1. 1. 1. 2.] 4\n",
      "confusion_matrix:\n",
      " [[7 0]\n",
      " [3 4]]\n",
      "fpr: [0.         0.57142857 1.        ] \t tpr: [0. 0. 1.] \n",
      "\n",
      "TRAIN: [1 1 2 1 2 2 1 1 2 2 2 2 1 1] 7\n",
      "TEST: [1 2 2 1 2 1 2 1 1 2 2 1 2 1]\n",
      "ansMat[test, i]: [2. 1. 1. 2. 2. 1. 2. 1. 1. 2. 2. 1. 2. 1.] 7\n",
      "confusion_matrix:\n",
      " [[5 2]\n",
      " [2 5]]\n",
      "fpr: [0.         0.71428571 1.        ] \t tpr: [0.         0.28571429 1.        ] \n",
      "\n",
      "TRAIN: [1 1 2 1 2 1 1 1 2 1 2 1 1 1] 4\n",
      "TEST: [2 1 2 1 2 2 2 2 1 2 1 2 2 2]\n",
      "ansMat[test, i]: [1. 1. 1. 1. 1. 1. 1. 1. 1. 1. 1. 1. 1. 1.] 0\n",
      "confusion_matrix:\n",
      " [[ 4  0]\n",
      " [10  0]]\n",
      "fpr: [0. 1.] \t tpr: [0. 1.] \n",
      "\n",
      "0.4285714285714286\n",
      "fpr [0.         0.07142857 0.14285714 0.14285714 0.21428571 0.28571429\n",
      " 0.42857143 0.71428571 0.71428571 0.71428571 0.78571429 0.85714286\n",
      " 1.        ] \n",
      "\n",
      "tpr [0.         0.         0.         0.07142857 0.07142857 0.14285714\n",
      " 0.14285714 0.64285714 0.71428571 0.92857143 1.         1.\n",
      " 1.        ] \n",
      "\n"
     ]
    }
   ],
   "source": [
    "    Y = np.array([1, 2]*14)\n",
    "    X = np.random.uniform(size=[len(Y), 100])\n",
    "    #print('X',X)\n",
    "    #print('Y', Y)\n",
    "    n_iter = 10\n",
    "    ansMat = np.full((len(Y), n_iter), np.nan)\n",
    "    for i in range(n_iter):\n",
    "        # Get train/test index\n",
    "        train = np.random.choice(range(int(len(Y))), size=int(0.5*len(Y)), replace=False, p=None)\n",
    "        print('TRAIN:',Y[train], np.count_nonzero(Y[train] == 2))\n",
    "        \n",
    "        if len(np.unique(Y)) == 1:\n",
    "            continue\n",
    "        test = np.array([i for i in range(len(Y)) if i not in train])\n",
    "        print('TEST:',Y[test])\n",
    "        mod = SVC(probability=False)\n",
    "        mod.fit(X=X[train, :], y=Y[train])\n",
    "        # predict and collect answer\n",
    "        ansMat[test, i] = mod.predict(X[test, :])\n",
    "        print('ansMat[test, i]:', ansMat[test, i], np.count_nonzero(ansMat[test, i] == 2))\n",
    "        print('confusion_matrix:\\n',confusion_matrix(Y[test], ansMat[test, i]))\n",
    "        fpr, tpr, thresholds = roc_curve(Y[test], ansMat[test, i], pos_label=1)\n",
    "        print('fpr:', fpr,'\\t tpr:', tpr,'\\n')\n",
    "    ans = np.nanmean(ansMat, axis=1)\n",
    "    fpr, tpr, thresholds = roc_curve(Y, ans, pos_label=1)\n",
    "    print(auc(fpr, tpr))\n",
    "    print('fpr', fpr,'\\n')\n",
    "    print('tpr', tpr,'\\n')\n",
    "    \n"
   ]
  },
  {
   "cell_type": "code",
   "execution_count": 42,
   "id": "94126589",
   "metadata": {
    "scrolled": true
   },
   "outputs": [
    {
     "name": "stdout",
     "output_type": "stream",
     "text": [
      "TRAIN: [1 1 1 1 1 2 2 1 2 2 2 1 2 1] 6\n",
      "TEST: [2 1 2 1 2 1 2 1 2 1 2 1 2 2]\n",
      "ansMat[test, i]: [1. 1. 1. 1. 1. 1. 1. 1. 1. 1. 1. 1. 1. 1.] 0\n",
      "confusion_matrix:\n",
      " [[6 0]\n",
      " [8 0]]\n",
      "fpr: [0. 1.] \t tpr: [0. 1.] \n",
      "\n",
      "TRAIN: [1 2 1 2 2 1 2 1 1 1 2 2 1 2] 7\n",
      "TEST: [2 1 1 2 1 1 2 1 2 2 1 2 1 2]\n",
      "ansMat[test, i]: [1. 1. 2. 1. 1. 1. 1. 2. 1. 2. 1. 1. 2. 1.] 4\n",
      "confusion_matrix:\n",
      " [[4 3]\n",
      " [6 1]]\n",
      "fpr: [0.         0.14285714 1.        ] \t tpr: [0.         0.42857143 1.        ] \n",
      "\n",
      "TRAIN: [2 2 1 2 1 2 1 1 1 1 2 2 1 1] 6\n",
      "TEST: [1 2 1 1 2 2 1 2 2 1 1 2 2 2]\n",
      "ansMat[test, i]: [1. 1. 1. 1. 1. 1. 1. 1. 1. 1. 1. 1. 1. 1.] 0\n",
      "confusion_matrix:\n",
      " [[6 0]\n",
      " [8 0]]\n",
      "fpr: [0. 1.] \t tpr: [0. 1.] \n",
      "\n",
      "TRAIN: [1 1 1 2 2 1 2 2 2 2 2 1 2 2] 9\n",
      "TEST: [1 2 2 1 1 2 1 2 1 1 1 1 1 2]\n",
      "ansMat[test, i]: [2. 2. 2. 2. 2. 2. 2. 2. 2. 2. 2. 2. 2. 2.] 14\n",
      "confusion_matrix:\n",
      " [[0 9]\n",
      " [0 5]]\n",
      "fpr: [0. 1.] \t tpr: [0. 1.] \n",
      "\n",
      "TRAIN: [2 2 1 2 2 1 2 2 2 2 1 1 1 2] 9\n",
      "TEST: [2 1 1 1 2 1 1 2 1 2 1 2 1 1]\n",
      "ansMat[test, i]: [2. 2. 2. 2. 2. 2. 2. 2. 2. 2. 2. 2. 2. 2.] 14\n",
      "confusion_matrix:\n",
      " [[0 9]\n",
      " [0 5]]\n",
      "fpr: [0. 1.] \t tpr: [0. 1.] \n",
      "\n",
      "TRAIN: [1 2 2 2 2 2 1 1 2 1 2 1 2 1] 8\n",
      "TEST: [1 2 1 2 1 2 1 2 1 1 2 1 1 2]\n",
      "ansMat[test, i]: [2. 2. 2. 2. 2. 2. 2. 2. 2. 2. 2. 2. 2. 2.] 14\n",
      "confusion_matrix:\n",
      " [[0 8]\n",
      " [0 6]]\n",
      "fpr: [0. 1.] \t tpr: [0. 1.] \n",
      "\n",
      "TRAIN: [1 2 2 2 2 2 2 2 2 1 1 2 1 1] 9\n",
      "TEST: [1 2 1 2 1 1 1 2 1 1 2 1 1 2]\n",
      "ansMat[test, i]: [2. 2. 2. 2. 2. 2. 2. 2. 2. 2. 2. 2. 2. 2.] 14\n",
      "confusion_matrix:\n",
      " [[0 9]\n",
      " [0 5]]\n",
      "fpr: [0. 1.] \t tpr: [0. 1.] \n",
      "\n",
      "TRAIN: [2 1 1 1 1 1 1 2 2 1 2 2 2 1] 6\n",
      "TEST: [2 2 1 1 2 1 1 2 1 1 2 2 2 2]\n",
      "ansMat[test, i]: [1. 1. 1. 1. 1. 1. 1. 1. 1. 1. 1. 1. 1. 1.] 0\n",
      "confusion_matrix:\n",
      " [[6 0]\n",
      " [8 0]]\n",
      "fpr: [0. 1.] \t tpr: [0. 1.] \n",
      "\n",
      "TRAIN: [2 2 1 2 2 1 1 1 1 2 1 2 1 2] 7\n",
      "TEST: [1 1 1 2 2 1 2 2 1 2 2 1 1 2]\n",
      "ansMat[test, i]: [1. 2. 2. 2. 2. 2. 2. 1. 2. 1. 2. 2. 1. 2.] 10\n",
      "confusion_matrix:\n",
      " [[2 5]\n",
      " [2 5]]\n",
      "fpr: [0.         0.71428571 1.        ] \t tpr: [0.         0.71428571 1.        ] \n",
      "\n",
      "TRAIN: [2 1 1 1 1 2 1 2 1 1 2 1 2 2] 6\n",
      "TEST: [2 1 2 1 2 2 1 2 1 1 2 1 2 2]\n",
      "ansMat[test, i]: [1. 1. 1. 1. 1. 1. 1. 1. 1. 1. 1. 1. 1. 1.] 0\n",
      "confusion_matrix:\n",
      " [[6 0]\n",
      " [8 0]]\n",
      "fpr: [0. 1.] \t tpr: [0. 1.] \n",
      "\n"
     ]
    },
    {
     "data": {
      "image/png": "[encoded data removed]",
      "text/plain": [
       "<Figure size 640x480 with 1 Axes>"
      ]
     },
     "metadata": {},
     "output_type": "display_data"
    }
   ],
   "source": [
    "import matplotlib.pyplot as plt\n",
    "from sklearn.metrics import roc_curve, auc, confusion_matrix\n",
    "import numpy as np\n",
    "from sklearn.svm import SVC\n",
    "\n",
    "Y = np.array([1, 2]*14)\n",
    "X = np.random.uniform(size=[len(Y), 100])\n",
    "\n",
    "n_iter = 10\n",
    "ansMat = np.full((len(Y), n_iter), np.nan)\n",
    "\n",
    "for i in range(n_iter):\n",
    "    # Get train/test index\n",
    "    train = np.random.choice(range(int(len(Y))), size=int(0.5*len(Y)), replace=False, p=None)\n",
    "    print('TRAIN:',Y[train], np.count_nonzero(Y[train] == 2))\n",
    "    \n",
    "    if len(np.unique(Y)) == 1:\n",
    "        continue\n",
    "    test = np.array([i for i in range(len(Y)) if i not in train])\n",
    "    print('TEST:',Y[test])\n",
    "    mod = SVC(probability=False)\n",
    "    mod.fit(X=X[train, :], y=Y[train])\n",
    "    # predict and collect answer\n",
    "    ansMat[test, i] = mod.predict(X[test, :])\n",
    "    print('ansMat[test, i]:', ansMat[test, i], np.count_nonzero(ansMat[test, i] == 2))\n",
    "    print('confusion_matrix:\\n',confusion_matrix(Y[test], ansMat[test, i]))\n",
    "    fpr, tpr, thresholds = roc_curve(Y[test], ansMat[test, i], pos_label=1)\n",
    "    print('fpr:', fpr,'\\t tpr:', tpr,'\\n')\n",
    "\n",
    "ans = np.nanmean(ansMat, axis=1)\n",
    "fpr, tpr, thresholds = roc_curve(Y, ans, pos_label=1)\n",
    "auc_score = auc(fpr, tpr)\n",
    "\n",
    "# Plotting the ROC curve\n",
    "plt.plot(fpr, tpr, color='darkorange', lw=2, label='ROC curve (area = %0.2f)' % auc_score)\n",
    "plt.plot([0, 1], [0, 1], color='navy', lw=2, linestyle='--')\n",
    "plt.xlim([0.0, 1.0])\n",
    "plt.ylim([0.0, 1.05])\n",
    "plt.xlabel('False Positive Rate')\n",
    "plt.ylabel('True Positive Rate')\n",
    "plt.title('Receiver Operating Characteristic')\n",
    "plt.legend(loc=\"lower right\")\n",
    "plt.show()\n"
   ]
  },
  {
   "cell_type": "code",
   "execution_count": 52,
   "id": "94b2d73b",
   "metadata": {
    "scrolled": true
   },
   "outputs": [
    {
     "name": "stdout",
     "output_type": "stream",
     "text": [
      "TRAIN: [1 2 2 1 2 1 2 1 1 2 1 2 1 1] 6\n",
      "TEST: [1 2 2 2 2 1 2 1 2 1 2 1 1 2]\n",
      "ansMat[test, i]: [1. 1. 1. 1. 1. 1. 1. 1. 1. 1. 1. 1. 1. 1.] 0\n",
      "confusion_matrix:\n",
      " [[6 0]\n",
      " [8 0]]\n",
      "fpr: [0. 1.] \t tpr: [0. 1.] \n",
      "\n",
      "TRAIN: [2 1 1 1 2 1 2 1 2 1 2 1 1 2] 6\n",
      "TEST: [2 2 1 1 2 2 1 2 1 1 2 1 2 2]\n",
      "ansMat[test, i]: [1. 1. 1. 1. 1. 1. 1. 1. 1. 1. 1. 1. 1. 1.] 0\n",
      "confusion_matrix:\n",
      " [[6 0]\n",
      " [8 0]]\n",
      "fpr: [0. 1.] \t tpr: [0. 1.] \n",
      "\n",
      "TRAIN: [2 1 1 1 1 2 1 1 2 2 1 2 2 1] 6\n",
      "TEST: [2 2 1 2 1 2 1 2 1 1 2 1 2 2]\n",
      "ansMat[test, i]: [1. 1. 1. 1. 1. 1. 1. 1. 1. 1. 1. 1. 1. 1.] 0\n",
      "confusion_matrix:\n",
      " [[6 0]\n",
      " [8 0]]\n",
      "fpr: [0. 1.] \t tpr: [0. 1.] \n",
      "\n",
      "TRAIN: [2 1 2 1 1 2 1 1 1 2 1 2 1 2] 6\n",
      "TEST: [1 2 2 1 2 2 1 1 2 1 2 2 2 1]\n",
      "ansMat[test, i]: [1. 1. 1. 1. 1. 1. 1. 1. 1. 1. 1. 1. 1. 1.] 0\n",
      "confusion_matrix:\n",
      " [[6 0]\n",
      " [8 0]]\n",
      "fpr: [0. 1.] \t tpr: [0. 1.] \n",
      "\n",
      "TRAIN: [2 2 1 2 2 2 1 1 2 1 2 2 2 1] 9\n",
      "TEST: [1 1 2 1 1 1 1 2 1 2 1 1 2 2]\n",
      "ansMat[test, i]: [2. 2. 2. 2. 2. 2. 2. 2. 2. 2. 2. 2. 2. 2.] 14\n",
      "confusion_matrix:\n",
      " [[0 9]\n",
      " [0 5]]\n",
      "fpr: [0. 1.] \t tpr: [0. 1.] \n",
      "\n",
      "TRAIN: [2 1 1 2 2 1 1 2 2 2 1 2 2 2] 9\n",
      "TEST: [1 1 1 1 2 1 1 2 1 1 2 1 2 2]\n",
      "ansMat[test, i]: [2. 2. 2. 2. 2. 2. 2. 2. 2. 2. 2. 2. 2. 2.] 14\n",
      "confusion_matrix:\n",
      " [[0 9]\n",
      " [0 5]]\n",
      "fpr: [0. 1.] \t tpr: [0. 1.] \n",
      "\n",
      "TRAIN: [2 1 1 2 1 1 2 2 1 1 2 1 1 2] 6\n",
      "TEST: [2 1 2 2 2 1 2 1 2 1 2 1 1 2]\n",
      "ansMat[test, i]: [1. 1. 1. 1. 1. 1. 1. 1. 1. 1. 1. 1. 1. 1.] 0\n",
      "confusion_matrix:\n",
      " [[6 0]\n",
      " [8 0]]\n",
      "fpr: [0. 1.] \t tpr: [0. 1.] \n",
      "\n",
      "TRAIN: [1 2 2 2 1 2 1 2 1 2 1 2 1 1] 7\n",
      "TEST: [1 2 1 1 1 2 1 2 1 1 2 2 2 2]\n",
      "ansMat[test, i]: [1. 1. 1. 1. 2. 1. 2. 1. 2. 2. 1. 1. 1. 2.] 5\n",
      "confusion_matrix:\n",
      " [[3 4]\n",
      " [6 1]]\n",
      "fpr: [0.         0.14285714 1.        ] \t tpr: [0.         0.57142857 1.        ] \n",
      "\n",
      "TRAIN: [1 2 1 1 1 2 2 2 1 1 1 2 2 1] 6\n",
      "TEST: [1 2 2 1 2 2 1 2 1 2 1 2 1 2]\n",
      "ansMat[test, i]: [1. 1. 1. 1. 1. 1. 1. 1. 1. 1. 1. 1. 1. 1.] 0\n",
      "confusion_matrix:\n",
      " [[6 0]\n",
      " [8 0]]\n",
      "fpr: [0. 1.] \t tpr: [0. 1.] \n",
      "\n",
      "TRAIN: [2 1 1 1 2 1 1 2 2 2 1 2 2 2] 8\n",
      "TEST: [1 2 1 2 1 1 1 2 1 2 2 1 1 2]\n",
      "ansMat[test, i]: [2. 2. 2. 2. 2. 2. 2. 2. 2. 2. 2. 2. 2. 2.] 14\n",
      "confusion_matrix:\n",
      " [[0 8]\n",
      " [0 6]]\n",
      "fpr: [0. 1.] \t tpr: [0. 1.] \n",
      "\n"
     ]
    },
    {
     "data": {
      "image/png": "[encoded data removed]",
      "text/plain": [
       "<Figure size 640x480 with 1 Axes>"
      ]
     },
     "metadata": {},
     "output_type": "display_data"
    }
   ],
   "source": [
    "import matplotlib.pyplot as plt\n",
    "from sklearn.metrics import roc_curve, auc, confusion_matrix\n",
    "import numpy as np\n",
    "from sklearn.svm import SVC\n",
    "\n",
    "Y = np.array([1, 2]*14)\n",
    "X = np.random.uniform(size=[len(Y), 100])\n",
    "\n",
    "n_iter = 10\n",
    "ansMat = np.full((len(Y), n_iter), np.nan)\n",
    "\n",
    "fpr_all = []\n",
    "tpr_all = []\n",
    "\n",
    "for i in range(n_iter):\n",
    "    # Get train/test index\n",
    "    train = np.random.choice(range(int(len(Y))), size=int(0.5*len(Y)), replace=False, p=None)\n",
    "    print('TRAIN:', Y[train], np.count_nonzero(Y[train] == 2))\n",
    "    \n",
    "    if len(np.unique(Y)) == 1:\n",
    "        continue\n",
    "    test = np.array([i for i in range(len(Y)) if i not in train])\n",
    "    print('TEST:', Y[test])\n",
    "    mod = SVC(probability=False)\n",
    "    mod.fit(X=X[train, :], y=Y[train])\n",
    "    # predict and collect answer\n",
    "    ansMat[test, i] = mod.predict(X[test, :])\n",
    "    print('ansMat[test, i]:', ansMat[test, i], np.count_nonzero(ansMat[test, i] == 2))\n",
    "    print('confusion_matrix:\\n', confusion_matrix(Y[test], ansMat[test, i]))\n",
    "    fpr, tpr, thresholds = roc_curve(Y[test], ansMat[test, i], pos_label=1)\n",
    "    print('fpr:', fpr, '\\t tpr:', tpr, '\\n')\n",
    "    fpr_all.append(fpr)\n",
    "    tpr_all.append(tpr)\n",
    "\n",
    "# Concatenate FPR and TPR arrays\n",
    "fpr_all = np.concatenate(fpr_all)\n",
    "tpr_all = np.concatenate(tpr_all)\n",
    "\n",
    "# Sort the FPR and TPR arrays in ascending order\n",
    "sorted_indices = np.argsort(fpr_all)\n",
    "fpr_all = fpr_all[sorted_indices]\n",
    "tpr_all = tpr_all[sorted_indices]\n",
    "\n",
    "auc_score = auc(fpr_all, tpr_all)\n",
    "\n",
    "# Plotting the ROC curve with dots\n",
    "plt.plot(fpr_all, tpr_all, color='darkorange', lw=2, label='ROC curve (area = %0.2f)' % auc_score)\n",
    "plt.plot(fpr_all, tpr_all, 'o', color='black')\n",
    "\n",
    "# Plotting individual dots\n",
    "for i in range(len(fpr_all)):\n",
    "    plt.scatter(fpr_all[i], tpr_all[i], color='red')\n",
    "    plt.annotate(i + 1, (fpr_all[i], tpr_all[i]), textcoords=\"offset points\", xytext=(-10, -10), ha='center', color='red')\n",
    "\n",
    "plt.plot([0, 1], [0, 1], color='navy', lw=2, linestyle='--')\n",
    "plt.xlim([0.0, 1.0])\n",
    "plt.ylim([0.0, 1.05])\n",
    "plt.xlabel('False Positive Rate')\n",
    "plt.ylabel('True Positive Rate')\n",
    "plt.title('Receiver Operating Characteristic')\n",
    "plt.legend(loc=\"lower right\")\n",
    "plt.show()\n"
   ]
  },
  {
   "cell_type": "code",
   "execution_count": 6,
   "id": "4c8450b1",
   "metadata": {},
   "outputs": [
    {
     "data": {
      "text/plain": [
       "2"
      ]
     },
     "execution_count": 6,
     "metadata": {},
     "output_type": "execute_result"
    }
   ],
   "source": [
    "len(np.unique(Y))"
   ]
  },
  {
   "cell_type": "code",
   "execution_count": 7,
   "id": "b62615dd",
   "metadata": {},
   "outputs": [],
   "source": [
    "Y = np.array([1, 2]*14)\n",
    "X = np.random.uniform(size=[len(Y), 100])\n",
    "n_iter = 1000"
   ]
  },
  {
   "cell_type": "code",
   "execution_count": 8,
   "id": "08ede659",
   "metadata": {},
   "outputs": [
    {
     "data": {
      "text/plain": [
       "(28,)"
      ]
     },
     "execution_count": 8,
     "metadata": {},
     "output_type": "execute_result"
    }
   ],
   "source": [
    "Y.shape"
   ]
  },
  {
   "cell_type": "code",
   "execution_count": 9,
   "id": "626a2e32",
   "metadata": {},
   "outputs": [
    {
     "data": {
      "text/plain": [
       "(28, 100)"
      ]
     },
     "execution_count": 9,
     "metadata": {},
     "output_type": "execute_result"
    }
   ],
   "source": [
    "X.shape"
   ]
  },
  {
   "cell_type": "code",
   "execution_count": 10,
   "id": "c2cf29bb",
   "metadata": {},
   "outputs": [],
   "source": [
    "ansMat = np.full((len(Y), n_iter), np.nan)"
   ]
  },
  {
   "cell_type": "code",
   "execution_count": 11,
   "id": "88dd0d6b",
   "metadata": {},
   "outputs": [
    {
     "data": {
      "text/plain": [
       "(28, 1000)"
      ]
     },
     "execution_count": 11,
     "metadata": {},
     "output_type": "execute_result"
    }
   ],
   "source": [
    "ansMat.shape"
   ]
  },
  {
   "cell_type": "code",
   "execution_count": 12,
   "id": "e5b21c97",
   "metadata": {},
   "outputs": [],
   "source": [
    "#for i in range(n_iter):\n",
    "        # Get train/test index\n",
    "train = np.random.choice(range(int(len(Y))), size=int(0.5*len(Y)), replace=False, p=None)"
   ]
  },
  {
   "cell_type": "code",
   "execution_count": 13,
   "id": "ef96dc6a",
   "metadata": {},
   "outputs": [
    {
     "data": {
      "text/plain": [
       "array([27,  0, 13, 19, 11, 14, 17,  6, 25, 20, 12, 21,  5,  4])"
      ]
     },
     "execution_count": 13,
     "metadata": {},
     "output_type": "execute_result"
    }
   ],
   "source": [
    "train"
   ]
  },
  {
   "cell_type": "code",
   "execution_count": 14,
   "id": "8a31098b",
   "metadata": {},
   "outputs": [],
   "source": [
    "        #if len(np.unique(Y)) == 1:\n",
    "        #    continue\n",
    "test = np.array([i for i in range(len(Y)) if i not in train])"
   ]
  },
  {
   "cell_type": "code",
   "execution_count": 15,
   "id": "aadd76dd",
   "metadata": {},
   "outputs": [
    {
     "data": {
      "text/plain": [
       "array([ 1,  2,  3,  7,  8,  9, 10, 15, 16, 18, 22, 23, 24, 26])"
      ]
     },
     "execution_count": 15,
     "metadata": {},
     "output_type": "execute_result"
    }
   ],
   "source": [
    "test"
   ]
  },
  {
   "cell_type": "code",
   "execution_count": 16,
   "id": "b903b70f",
   "metadata": {},
   "outputs": [
    {
     "data": {
      "text/html": [
       "<style>#sk-container-id-1 {color: black;background-color: white;}#sk-container-id-1 pre{padding: 0;}#sk-container-id-1 div.sk-toggleable {background-color: white;}#sk-container-id-1 label.sk-toggleable__label {cursor: pointer;display: block;width: 100%;margin-bottom: 0;padding: 0.3em;box-sizing: border-box;text-align: center;}#sk-container-id-1 label.sk-toggleable__label-arrow:before {content: \"▸\";float: left;margin-right: 0.25em;color: #696969;}#sk-container-id-1 label.sk-toggleable__label-arrow:hover:before {color: black;}#sk-container-id-1 div.sk-estimator:hover label.sk-toggleable__label-arrow:before {color: black;}#sk-container-id-1 div.sk-toggleable__content {max-height: 0;max-width: 0;overflow: hidden;text-align: left;background-color: #f0f8ff;}#sk-container-id-1 div.sk-toggleable__content pre {margin: 0.2em;color: black;border-radius: 0.25em;background-color: #f0f8ff;}#sk-container-id-1 input.sk-toggleable__control:checked~div.sk-toggleable__content {max-height: 200px;max-width: 100%;overflow: auto;}#sk-container-id-1 input.sk-toggleable__control:checked~label.sk-toggleable__label-arrow:before {content: \"▾\";}#sk-container-id-1 div.sk-estimator input.sk-toggleable__control:checked~label.sk-toggleable__label {background-color: #d4ebff;}#sk-container-id-1 div.sk-label input.sk-toggleable__control:checked~label.sk-toggleable__label {background-color: #d4ebff;}#sk-container-id-1 input.sk-hidden--visually {border: 0;clip: rect(1px 1px 1px 1px);clip: rect(1px, 1px, 1px, 1px);height: 1px;margin: -1px;overflow: hidden;padding: 0;position: absolute;width: 1px;}#sk-container-id-1 div.sk-estimator {font-family: monospace;background-color: #f0f8ff;border: 1px dotted black;border-radius: 0.25em;box-sizing: border-box;margin-bottom: 0.5em;}#sk-container-id-1 div.sk-estimator:hover {background-color: #d4ebff;}#sk-container-id-1 div.sk-parallel-item::after {content: \"\";width: 100%;border-bottom: 1px solid gray;flex-grow: 1;}#sk-container-id-1 div.sk-label:hover label.sk-toggleable__label {background-color: #d4ebff;}#sk-container-id-1 div.sk-serial::before {content: \"\";position: absolute;border-left: 1px solid gray;box-sizing: border-box;top: 0;bottom: 0;left: 50%;z-index: 0;}#sk-container-id-1 div.sk-serial {display: flex;flex-direction: column;align-items: center;background-color: white;padding-right: 0.2em;padding-left: 0.2em;position: relative;}#sk-container-id-1 div.sk-item {position: relative;z-index: 1;}#sk-container-id-1 div.sk-parallel {display: flex;align-items: stretch;justify-content: center;background-color: white;position: relative;}#sk-container-id-1 div.sk-item::before, #sk-container-id-1 div.sk-parallel-item::before {content: \"\";position: absolute;border-left: 1px solid gray;box-sizing: border-box;top: 0;bottom: 0;left: 50%;z-index: -1;}#sk-container-id-1 div.sk-parallel-item {display: flex;flex-direction: column;z-index: 1;position: relative;background-color: white;}#sk-container-id-1 div.sk-parallel-item:first-child::after {align-self: flex-end;width: 50%;}#sk-container-id-1 div.sk-parallel-item:last-child::after {align-self: flex-start;width: 50%;}#sk-container-id-1 div.sk-parallel-item:only-child::after {width: 0;}#sk-container-id-1 div.sk-dashed-wrapped {border: 1px dashed gray;margin: 0 0.4em 0.5em 0.4em;box-sizing: border-box;padding-bottom: 0.4em;background-color: white;}#sk-container-id-1 div.sk-label label {font-family: monospace;font-weight: bold;display: inline-block;line-height: 1.2em;}#sk-container-id-1 div.sk-label-container {text-align: center;}#sk-container-id-1 div.sk-container {/* jupyter's `normalize.less` sets `[hidden] { display: none; }` but bootstrap.min.css set `[hidden] { display: none !important; }` so we also need the `!important` here to be able to override the default hidden behavior on the sphinx rendered scikit-learn.org. See: https://github.com/scikit-learn/scikit-learn/issues/21755 */display: inline-block !important;position: relative;}#sk-container-id-1 div.sk-text-repr-fallback {display: none;}</style><div id=\"sk-container-id-1\" class=\"sk-top-container\"><div class=\"sk-text-repr-fallback\"><pre>SVC()</pre><b>In a Jupyter environment, please rerun this cell to show the HTML representation or trust the notebook. <br />On GitHub, the HTML representation is unable to render, please try loading this page with nbviewer.org.</b></div><div class=\"sk-container\" hidden><div class=\"sk-item\"><div class=\"sk-estimator sk-toggleable\"><input class=\"sk-toggleable__control sk-hidden--visually\" id=\"sk-estimator-id-1\" type=\"checkbox\" checked><label for=\"sk-estimator-id-1\" class=\"sk-toggleable__label sk-toggleable__label-arrow\">SVC</label><div class=\"sk-toggleable__content\"><pre>SVC()</pre></div></div></div></div></div>"
      ],
      "text/plain": [
       "SVC()"
      ]
     },
     "execution_count": 16,
     "metadata": {},
     "output_type": "execute_result"
    }
   ],
   "source": [
    "mod = SVC(probability=False)\n",
    "mod.fit(X=X[train, :], y=Y[train])\n",
    "        # predict and collect answer"
   ]
  },
  {
   "cell_type": "code",
   "execution_count": 17,
   "id": "7fecd44b",
   "metadata": {},
   "outputs": [],
   "source": [
    "ansMat[test, 0] = mod.predict(X[test, :])   "
   ]
  },
  {
   "cell_type": "code",
   "execution_count": 19,
   "id": "da7d45a1",
   "metadata": {},
   "outputs": [
    {
     "data": {
      "text/plain": [
       "array([nan,  2.,  2.,  2., nan, nan, nan,  2.,  2.,  2.,  2., nan, nan,\n",
       "       nan, nan,  2.,  2., nan,  2., nan, nan, nan,  2.,  2.,  2., nan,\n",
       "        2., nan])"
      ]
     },
     "execution_count": 19,
     "metadata": {},
     "output_type": "execute_result"
    }
   ],
   "source": [
    "ans"
   ]
  },
  {
   "cell_type": "markdown",
   "id": "504cde2c-c5fd-4bc8-8aba-efb044d31198",
   "metadata": {},
   "source": [
    "## Your answer"
   ]
  },
  {
   "cell_type": "markdown",
   "id": "eac378b7",
   "metadata": {},
   "source": [
    "Clearly, the code is dividing the data into a 50% training set and a 50% testing set, resulting in a significant loss of data during training. The model's testing set consists of random data, which prevents it from utilizing the information from that portion of the data. Furthermore, a leave-out strategy is employed where each training set includes all samples except those belonging to one specific group. By examining the confusion matrix, true positive rate (TPR), and false positive rate (FPR) of the training data in each iteration, we can observe that the model tends to predict the more frequent label. The randomness in the data splits adds to the variability of the results, as the specific splits chosen in each iteration may unintentionally impact the model's performance and yield higher area under the curve (AUC) values.\n",
    "\n",
    "For instance, consider the following training and test data:\n",
    "\n",
    "<span style=\"color:red\">TRAIN: [1 2 2 1 2 1 2 1 1 2 1 2 1 1] Number of label 2: 6</span>\n",
    "\n",
    "<span style=\"color:red\">TEST: [1 2 2 2 2 1 2 1 2 1 2 1 1 2]</span>\n",
    "\n",
    "<span style=\"color:red\">ansMat[test, i]: [1. 1. 1. 1. 1. 1. 1. 1. 1. 1. 1. 1. 1. 1.] Number of label 2: 0</span>\n",
    "\n",
    "confusion_matrix:\n",
    "\n",
    "<span style=\"color:red\">[[6 0]</span>\n",
    "\n",
    "<span style=\"color:red\">[8 0]]</span>\n",
    "\n",
    "<span style=\"color:red\">fpr: [0. 1.] tpr: [0. 1.]</span>\n",
    "\n",
    "In this case, there are more instances of label 1 than label 2, and the model predicts label 1 as the target. Similarly, in the following example:\n",
    "\n",
    "<span style=\"color:red\">TRAIN: [2 2 1 2 2 2 1 1 2 1 2 2 2 1] Number of label 2: 9</span>\n",
    "\n",
    "<span style=\"color:red\">TEST: [1 1 2 1 1 1 1 2 1 2 1 1 2 2]</span>\n",
    "\n",
    "<span style=\"color:red\">ansMat[test, i]: [2. 2. 2. 2. 2. 2. 2. 2. 2. 2. 2. 2. 2. 2.] Number of label 2: 14</span>\n",
    "\n",
    "confusion_matrix:\n",
    "\n",
    "<span style=\"color:red\">[[0 9]</span>\n",
    "\n",
    "<span style=\"color:red\">[0 5]]</span>\n",
    "\n",
    "<span style=\"color:red\">fpr: [0. 1.] tpr: [0. 1.]</span>\n",
    "\n",
    "Here, the number of label 2 instances exceeds that of label 1, resulting in the model predicting label 2 as the target. However, in some cases, the number of labels is equal, and the model behaves differently:\n",
    "\n",
    "<span style=\"color:red\">TRAIN: [1 2 2 2 1 2 1 2 1 2 1 2 1 1] Number of label 2: 7</span>\n",
    "\n",
    "<span style=\"color:red\">TEST: [1 2 1 1 1 2 1 2 1 1 2 2 2 2]</span>\n",
    "\n",
    "<span style=\"color:red\">ansMat[test, i]: [1. 1. 1. 1. 2. 1. 2. 1. 2. 2. 1. 1. 1. 2.] Number of label 2: 5</span>\n",
    "\n",
    "confusion_matrix:\n",
    "\n",
    "<span style=\"color:red\">[[3 4]</span>\n",
    "\n",
    "<span style=\"color:red\">[6 1]]</span>\n",
    "\n",
    "<span style=\"color:red\">fpr: [0. 0.14285714 1. ] tpr: [0. 0.57142857 1. ]</span>\n",
    "\n",
    "In this case, the model tends to favor one label with a probability of <span style=\"color:red\">0.8 (in 80% of iterations)</span>.\n",
    "\n",
    "Moreover, the data is generated randomly, which means there may be some random patterns within the data. These patterns can be learned by the SVM (Support Vector Machine) model. However, since the dataset consists of only 28 samples, which is relatively small, there is a higher chance of introducing variability. Consequently, the AUC value may not accurately reflect the model's true performance.\n",
    "\n",
    "However, as you mentioned, there are two potential ways to mitigate this problem. One option is to increase the number of rows in the feature matrix X, which refers to the number of samples. Alternatively, you can decrease the number of columns, representing the feature matrix's dimensionality. By doing so, you address the following reasons:\n",
    "\n",
    "With a feature matrix shape of 28 * 100, each sample has 100 features. Since SVM performs well in finding linear decision boundaries, having a larger number of features increases the likelihood of finding linearly separable patterns.\n",
    "\n",
    "Given the small number of samples, the dataset is more prone to higher variability (28). This means that the AUC value may not accurately reflect the model's true performance due to the limitations imposed by the small dataset size."
   ]
  },
  {
   "cell_type": "markdown",
   "id": "fcfb3ad1-3f67-403e-9ee4-775b67f76660",
   "metadata": {},
   "source": [
    "## Feedback"
   ]
  },
  {
   "cell_type": "markdown",
   "id": "867962a5-b639-4d39-882c-5a42a68e891c",
   "metadata": {},
   "source": [
    "Was this exercise is difficult or not? In either case, briefly describe why."
   ]
  },
  {
   "cell_type": "markdown",
   "id": "234af73c",
   "metadata": {},
   "source": []
  },
  {
   "cell_type": "code",
   "execution_count": null,
   "id": "44e24d48-7fc3-4d06-b1ca-b15e12296322",
   "metadata": {},
   "outputs": [],
   "source": []
  },
  {
   "cell_type": "code",
   "execution_count": null,
   "id": "345378d9-436b-42d6-8444-4d0edc4b1ddb",
   "metadata": {},
   "outputs": [],
   "source": []
  }
 ],
 "metadata": {
  "kernelspec": {
   "display_name": "Python 3 (ipykernel)",
   "language": "python",
   "name": "python3"
  },
  "language_info": {
   "codemirror_mode": {
    "name": "ipython",
    "version": 3
   },
   "file_extension": ".py",
   "mimetype": "text/x-python",
   "name": "python",
   "nbconvert_exporter": "python",
   "pygments_lexer": "ipython3",
   "version": "3.9.7"
  }
 },
 "nbformat": 4,
 "nbformat_minor": 5
}
